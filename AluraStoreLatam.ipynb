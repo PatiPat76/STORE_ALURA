{
  "nbformat": 4,
  "nbformat_minor": 0,
  "metadata": {
    "colab": {
      "provenance": [],
      "include_colab_link": true
    },
    "kernelspec": {
      "name": "python3",
      "display_name": "Python 3"
    },
    "language_info": {
      "name": "python"
    }
  },
  "cells": [
    {
      "cell_type": "markdown",
      "metadata": {
        "id": "view-in-github",
        "colab_type": "text"
      },
      "source": [
        "<a href=\"https://colab.research.google.com/github/PatiPat76/STORE_ALURA/blob/main/AluraStoreLatam.ipynb\" target=\"_parent\"><img src=\"https://colab.research.google.com/assets/colab-badge.svg\" alt=\"Open In Colab\"/></a>"
      ]
    },
    {
      "cell_type": "markdown",
      "source": [
        "### Importación de datos\n",
        "\n"
      ],
      "metadata": {
        "id": "RhEdWd9YUR6H"
      }
    },
    {
      "cell_type": "code",
      "execution_count": 2,
      "metadata": {
        "colab": {
          "base_uri": "https://localhost:8080/",
          "height": 310
        },
        "id": "T3EvaeQ_INIL",
        "outputId": "1eae2306-9f36-4907-f29d-d1d31f8e0a87"
      },
      "outputs": [
        {
          "output_type": "execute_result",
          "data": {
            "text/plain": [
              "            Producto Categoría del Producto    Precio  Costo de envío  \\\n",
              "0  Asistente virtual           Electrónicos  164300.0          6900.0   \n",
              "1    Mesa de comedor                Muebles  192300.0          8400.0   \n",
              "2      Juego de mesa               Juguetes  209600.0         15900.0   \n",
              "3         Microondas      Electrodomésticos  757500.0         41000.0   \n",
              "4   Silla de oficina                Muebles  335200.0         20200.0   \n",
              "\n",
              "  Fecha de Compra         Vendedor Lugar de Compra  Calificación  \\\n",
              "0      16/01/2021      Pedro Gomez          Bogotá             4   \n",
              "1      18/05/2022  Beatriz Morales        Medellín             1   \n",
              "2      15/03/2021   Juan Fernandez       Cartagena             1   \n",
              "3      03/05/2022   Juan Fernandez            Cali             4   \n",
              "4      07/11/2020    Maria Alfonso        Medellín             5   \n",
              "\n",
              "       Método de pago  Cantidad de cuotas       lat       lon  \n",
              "0  Tarjeta de crédito                   8   4.60971 -74.08175  \n",
              "1  Tarjeta de crédito                   4   6.25184 -75.56359  \n",
              "2  Tarjeta de crédito                   1  10.39972 -75.51444  \n",
              "3               Nequi                   1   3.43722 -76.52250  \n",
              "4               Nequi                   1   6.25184 -75.56359  "
            ],
            "text/html": [
              "\n",
              "  <div id=\"df-f16260d2-97f6-4af4-b375-976c61e19d04\" class=\"colab-df-container\">\n",
              "    <div>\n",
              "<style scoped>\n",
              "    .dataframe tbody tr th:only-of-type {\n",
              "        vertical-align: middle;\n",
              "    }\n",
              "\n",
              "    .dataframe tbody tr th {\n",
              "        vertical-align: top;\n",
              "    }\n",
              "\n",
              "    .dataframe thead th {\n",
              "        text-align: right;\n",
              "    }\n",
              "</style>\n",
              "<table border=\"1\" class=\"dataframe\">\n",
              "  <thead>\n",
              "    <tr style=\"text-align: right;\">\n",
              "      <th></th>\n",
              "      <th>Producto</th>\n",
              "      <th>Categoría del Producto</th>\n",
              "      <th>Precio</th>\n",
              "      <th>Costo de envío</th>\n",
              "      <th>Fecha de Compra</th>\n",
              "      <th>Vendedor</th>\n",
              "      <th>Lugar de Compra</th>\n",
              "      <th>Calificación</th>\n",
              "      <th>Método de pago</th>\n",
              "      <th>Cantidad de cuotas</th>\n",
              "      <th>lat</th>\n",
              "      <th>lon</th>\n",
              "    </tr>\n",
              "  </thead>\n",
              "  <tbody>\n",
              "    <tr>\n",
              "      <th>0</th>\n",
              "      <td>Asistente virtual</td>\n",
              "      <td>Electrónicos</td>\n",
              "      <td>164300.0</td>\n",
              "      <td>6900.0</td>\n",
              "      <td>16/01/2021</td>\n",
              "      <td>Pedro Gomez</td>\n",
              "      <td>Bogotá</td>\n",
              "      <td>4</td>\n",
              "      <td>Tarjeta de crédito</td>\n",
              "      <td>8</td>\n",
              "      <td>4.60971</td>\n",
              "      <td>-74.08175</td>\n",
              "    </tr>\n",
              "    <tr>\n",
              "      <th>1</th>\n",
              "      <td>Mesa de comedor</td>\n",
              "      <td>Muebles</td>\n",
              "      <td>192300.0</td>\n",
              "      <td>8400.0</td>\n",
              "      <td>18/05/2022</td>\n",
              "      <td>Beatriz Morales</td>\n",
              "      <td>Medellín</td>\n",
              "      <td>1</td>\n",
              "      <td>Tarjeta de crédito</td>\n",
              "      <td>4</td>\n",
              "      <td>6.25184</td>\n",
              "      <td>-75.56359</td>\n",
              "    </tr>\n",
              "    <tr>\n",
              "      <th>2</th>\n",
              "      <td>Juego de mesa</td>\n",
              "      <td>Juguetes</td>\n",
              "      <td>209600.0</td>\n",
              "      <td>15900.0</td>\n",
              "      <td>15/03/2021</td>\n",
              "      <td>Juan Fernandez</td>\n",
              "      <td>Cartagena</td>\n",
              "      <td>1</td>\n",
              "      <td>Tarjeta de crédito</td>\n",
              "      <td>1</td>\n",
              "      <td>10.39972</td>\n",
              "      <td>-75.51444</td>\n",
              "    </tr>\n",
              "    <tr>\n",
              "      <th>3</th>\n",
              "      <td>Microondas</td>\n",
              "      <td>Electrodomésticos</td>\n",
              "      <td>757500.0</td>\n",
              "      <td>41000.0</td>\n",
              "      <td>03/05/2022</td>\n",
              "      <td>Juan Fernandez</td>\n",
              "      <td>Cali</td>\n",
              "      <td>4</td>\n",
              "      <td>Nequi</td>\n",
              "      <td>1</td>\n",
              "      <td>3.43722</td>\n",
              "      <td>-76.52250</td>\n",
              "    </tr>\n",
              "    <tr>\n",
              "      <th>4</th>\n",
              "      <td>Silla de oficina</td>\n",
              "      <td>Muebles</td>\n",
              "      <td>335200.0</td>\n",
              "      <td>20200.0</td>\n",
              "      <td>07/11/2020</td>\n",
              "      <td>Maria Alfonso</td>\n",
              "      <td>Medellín</td>\n",
              "      <td>5</td>\n",
              "      <td>Nequi</td>\n",
              "      <td>1</td>\n",
              "      <td>6.25184</td>\n",
              "      <td>-75.56359</td>\n",
              "    </tr>\n",
              "  </tbody>\n",
              "</table>\n",
              "</div>\n",
              "    <div class=\"colab-df-buttons\">\n",
              "\n",
              "  <div class=\"colab-df-container\">\n",
              "    <button class=\"colab-df-convert\" onclick=\"convertToInteractive('df-f16260d2-97f6-4af4-b375-976c61e19d04')\"\n",
              "            title=\"Convert this dataframe to an interactive table.\"\n",
              "            style=\"display:none;\">\n",
              "\n",
              "  <svg xmlns=\"http://www.w3.org/2000/svg\" height=\"24px\" viewBox=\"0 -960 960 960\">\n",
              "    <path d=\"M120-120v-720h720v720H120Zm60-500h600v-160H180v160Zm220 220h160v-160H400v160Zm0 220h160v-160H400v160ZM180-400h160v-160H180v160Zm440 0h160v-160H620v160ZM180-180h160v-160H180v160Zm440 0h160v-160H620v160Z\"/>\n",
              "  </svg>\n",
              "    </button>\n",
              "\n",
              "  <style>\n",
              "    .colab-df-container {\n",
              "      display:flex;\n",
              "      gap: 12px;\n",
              "    }\n",
              "\n",
              "    .colab-df-convert {\n",
              "      background-color: #E8F0FE;\n",
              "      border: none;\n",
              "      border-radius: 50%;\n",
              "      cursor: pointer;\n",
              "      display: none;\n",
              "      fill: #1967D2;\n",
              "      height: 32px;\n",
              "      padding: 0 0 0 0;\n",
              "      width: 32px;\n",
              "    }\n",
              "\n",
              "    .colab-df-convert:hover {\n",
              "      background-color: #E2EBFA;\n",
              "      box-shadow: 0px 1px 2px rgba(60, 64, 67, 0.3), 0px 1px 3px 1px rgba(60, 64, 67, 0.15);\n",
              "      fill: #174EA6;\n",
              "    }\n",
              "\n",
              "    .colab-df-buttons div {\n",
              "      margin-bottom: 4px;\n",
              "    }\n",
              "\n",
              "    [theme=dark] .colab-df-convert {\n",
              "      background-color: #3B4455;\n",
              "      fill: #D2E3FC;\n",
              "    }\n",
              "\n",
              "    [theme=dark] .colab-df-convert:hover {\n",
              "      background-color: #434B5C;\n",
              "      box-shadow: 0px 1px 3px 1px rgba(0, 0, 0, 0.15);\n",
              "      filter: drop-shadow(0px 1px 2px rgba(0, 0, 0, 0.3));\n",
              "      fill: #FFFFFF;\n",
              "    }\n",
              "  </style>\n",
              "\n",
              "    <script>\n",
              "      const buttonEl =\n",
              "        document.querySelector('#df-f16260d2-97f6-4af4-b375-976c61e19d04 button.colab-df-convert');\n",
              "      buttonEl.style.display =\n",
              "        google.colab.kernel.accessAllowed ? 'block' : 'none';\n",
              "\n",
              "      async function convertToInteractive(key) {\n",
              "        const element = document.querySelector('#df-f16260d2-97f6-4af4-b375-976c61e19d04');\n",
              "        const dataTable =\n",
              "          await google.colab.kernel.invokeFunction('convertToInteractive',\n",
              "                                                    [key], {});\n",
              "        if (!dataTable) return;\n",
              "\n",
              "        const docLinkHtml = 'Like what you see? Visit the ' +\n",
              "          '<a target=\"_blank\" href=https://colab.research.google.com/notebooks/data_table.ipynb>data table notebook</a>'\n",
              "          + ' to learn more about interactive tables.';\n",
              "        element.innerHTML = '';\n",
              "        dataTable['output_type'] = 'display_data';\n",
              "        await google.colab.output.renderOutput(dataTable, element);\n",
              "        const docLink = document.createElement('div');\n",
              "        docLink.innerHTML = docLinkHtml;\n",
              "        element.appendChild(docLink);\n",
              "      }\n",
              "    </script>\n",
              "  </div>\n",
              "\n",
              "\n",
              "<div id=\"df-bdd9619e-0f24-4490-817a-48448ac185e7\">\n",
              "  <button class=\"colab-df-quickchart\" onclick=\"quickchart('df-bdd9619e-0f24-4490-817a-48448ac185e7')\"\n",
              "            title=\"Suggest charts\"\n",
              "            style=\"display:none;\">\n",
              "\n",
              "<svg xmlns=\"http://www.w3.org/2000/svg\" height=\"24px\"viewBox=\"0 0 24 24\"\n",
              "     width=\"24px\">\n",
              "    <g>\n",
              "        <path d=\"M19 3H5c-1.1 0-2 .9-2 2v14c0 1.1.9 2 2 2h14c1.1 0 2-.9 2-2V5c0-1.1-.9-2-2-2zM9 17H7v-7h2v7zm4 0h-2V7h2v10zm4 0h-2v-4h2v4z\"/>\n",
              "    </g>\n",
              "</svg>\n",
              "  </button>\n",
              "\n",
              "<style>\n",
              "  .colab-df-quickchart {\n",
              "      --bg-color: #E8F0FE;\n",
              "      --fill-color: #1967D2;\n",
              "      --hover-bg-color: #E2EBFA;\n",
              "      --hover-fill-color: #174EA6;\n",
              "      --disabled-fill-color: #AAA;\n",
              "      --disabled-bg-color: #DDD;\n",
              "  }\n",
              "\n",
              "  [theme=dark] .colab-df-quickchart {\n",
              "      --bg-color: #3B4455;\n",
              "      --fill-color: #D2E3FC;\n",
              "      --hover-bg-color: #434B5C;\n",
              "      --hover-fill-color: #FFFFFF;\n",
              "      --disabled-bg-color: #3B4455;\n",
              "      --disabled-fill-color: #666;\n",
              "  }\n",
              "\n",
              "  .colab-df-quickchart {\n",
              "    background-color: var(--bg-color);\n",
              "    border: none;\n",
              "    border-radius: 50%;\n",
              "    cursor: pointer;\n",
              "    display: none;\n",
              "    fill: var(--fill-color);\n",
              "    height: 32px;\n",
              "    padding: 0;\n",
              "    width: 32px;\n",
              "  }\n",
              "\n",
              "  .colab-df-quickchart:hover {\n",
              "    background-color: var(--hover-bg-color);\n",
              "    box-shadow: 0 1px 2px rgba(60, 64, 67, 0.3), 0 1px 3px 1px rgba(60, 64, 67, 0.15);\n",
              "    fill: var(--button-hover-fill-color);\n",
              "  }\n",
              "\n",
              "  .colab-df-quickchart-complete:disabled,\n",
              "  .colab-df-quickchart-complete:disabled:hover {\n",
              "    background-color: var(--disabled-bg-color);\n",
              "    fill: var(--disabled-fill-color);\n",
              "    box-shadow: none;\n",
              "  }\n",
              "\n",
              "  .colab-df-spinner {\n",
              "    border: 2px solid var(--fill-color);\n",
              "    border-color: transparent;\n",
              "    border-bottom-color: var(--fill-color);\n",
              "    animation:\n",
              "      spin 1s steps(1) infinite;\n",
              "  }\n",
              "\n",
              "  @keyframes spin {\n",
              "    0% {\n",
              "      border-color: transparent;\n",
              "      border-bottom-color: var(--fill-color);\n",
              "      border-left-color: var(--fill-color);\n",
              "    }\n",
              "    20% {\n",
              "      border-color: transparent;\n",
              "      border-left-color: var(--fill-color);\n",
              "      border-top-color: var(--fill-color);\n",
              "    }\n",
              "    30% {\n",
              "      border-color: transparent;\n",
              "      border-left-color: var(--fill-color);\n",
              "      border-top-color: var(--fill-color);\n",
              "      border-right-color: var(--fill-color);\n",
              "    }\n",
              "    40% {\n",
              "      border-color: transparent;\n",
              "      border-right-color: var(--fill-color);\n",
              "      border-top-color: var(--fill-color);\n",
              "    }\n",
              "    60% {\n",
              "      border-color: transparent;\n",
              "      border-right-color: var(--fill-color);\n",
              "    }\n",
              "    80% {\n",
              "      border-color: transparent;\n",
              "      border-right-color: var(--fill-color);\n",
              "      border-bottom-color: var(--fill-color);\n",
              "    }\n",
              "    90% {\n",
              "      border-color: transparent;\n",
              "      border-bottom-color: var(--fill-color);\n",
              "    }\n",
              "  }\n",
              "</style>\n",
              "\n",
              "  <script>\n",
              "    async function quickchart(key) {\n",
              "      const quickchartButtonEl =\n",
              "        document.querySelector('#' + key + ' button');\n",
              "      quickchartButtonEl.disabled = true;  // To prevent multiple clicks.\n",
              "      quickchartButtonEl.classList.add('colab-df-spinner');\n",
              "      try {\n",
              "        const charts = await google.colab.kernel.invokeFunction(\n",
              "            'suggestCharts', [key], {});\n",
              "      } catch (error) {\n",
              "        console.error('Error during call to suggestCharts:', error);\n",
              "      }\n",
              "      quickchartButtonEl.classList.remove('colab-df-spinner');\n",
              "      quickchartButtonEl.classList.add('colab-df-quickchart-complete');\n",
              "    }\n",
              "    (() => {\n",
              "      let quickchartButtonEl =\n",
              "        document.querySelector('#df-bdd9619e-0f24-4490-817a-48448ac185e7 button');\n",
              "      quickchartButtonEl.style.display =\n",
              "        google.colab.kernel.accessAllowed ? 'block' : 'none';\n",
              "    })();\n",
              "  </script>\n",
              "</div>\n",
              "\n",
              "    </div>\n",
              "  </div>\n"
            ],
            "application/vnd.google.colaboratory.intrinsic+json": {
              "type": "dataframe",
              "variable_name": "tienda",
              "summary": "{\n  \"name\": \"tienda\",\n  \"rows\": 2359,\n  \"fields\": [\n    {\n      \"column\": \"Producto\",\n      \"properties\": {\n        \"dtype\": \"category\",\n        \"num_unique_values\": 51,\n        \"samples\": [\n          \"Guitarra ac\\u00fastica\",\n          \"Bal\\u00f3n de baloncesto\",\n          \"Smartwatch\"\n        ],\n        \"semantic_type\": \"\",\n        \"description\": \"\"\n      }\n    },\n    {\n      \"column\": \"Categor\\u00eda del Producto\",\n      \"properties\": {\n        \"dtype\": \"category\",\n        \"num_unique_values\": 8,\n        \"samples\": [\n          \"Muebles\",\n          \"Deportes y diversi\\u00f3n\",\n          \"Electr\\u00f3nicos\"\n        ],\n        \"semantic_type\": \"\",\n        \"description\": \"\"\n      }\n    },\n    {\n      \"column\": \"Precio\",\n      \"properties\": {\n        \"dtype\": \"number\",\n        \"std\": 614686.7653873172,\n        \"min\": 7600.0,\n        \"max\": 2977000.0,\n        \"num_unique_values\": 1937,\n        \"samples\": [\n          2499400.0,\n          14800.0,\n          80500.0\n        ],\n        \"semantic_type\": \"\",\n        \"description\": \"\"\n      }\n    },\n    {\n      \"column\": \"Costo de env\\u00edo\",\n      \"properties\": {\n        \"dtype\": \"number\",\n        \"std\": 32860.0017825605,\n        \"min\": 0.0,\n        \"max\": 160800.0,\n        \"num_unique_values\": 753,\n        \"samples\": [\n          117800.0,\n          54700.0,\n          45600.0\n        ],\n        \"semantic_type\": \"\",\n        \"description\": \"\"\n      }\n    },\n    {\n      \"column\": \"Fecha de Compra\",\n      \"properties\": {\n        \"dtype\": \"object\",\n        \"num_unique_values\": 1018,\n        \"samples\": [\n          \"15/09/2022\",\n          \"03/06/2020\",\n          \"06/11/2021\"\n        ],\n        \"semantic_type\": \"\",\n        \"description\": \"\"\n      }\n    },\n    {\n      \"column\": \"Vendedor\",\n      \"properties\": {\n        \"dtype\": \"category\",\n        \"num_unique_values\": 14,\n        \"samples\": [\n          \"Juliana Costa\",\n          \"Mariana Herrera\",\n          \"Pedro Gomez\"\n        ],\n        \"semantic_type\": \"\",\n        \"description\": \"\"\n      }\n    },\n    {\n      \"column\": \"Lugar de Compra\",\n      \"properties\": {\n        \"dtype\": \"category\",\n        \"num_unique_values\": 19,\n        \"samples\": [\n          \"Bogot\\u00e1\",\n          \"Pereira\",\n          \"Neiva\"\n        ],\n        \"semantic_type\": \"\",\n        \"description\": \"\"\n      }\n    },\n    {\n      \"column\": \"Calificaci\\u00f3n\",\n      \"properties\": {\n        \"dtype\": \"number\",\n        \"std\": 1,\n        \"min\": 1,\n        \"max\": 5,\n        \"num_unique_values\": 5,\n        \"samples\": [\n          1,\n          2,\n          5\n        ],\n        \"semantic_type\": \"\",\n        \"description\": \"\"\n      }\n    },\n    {\n      \"column\": \"M\\u00e9todo de pago\",\n      \"properties\": {\n        \"dtype\": \"category\",\n        \"num_unique_values\": 4,\n        \"samples\": [\n          \"Nequi\",\n          \"Tarjeta de d\\u00e9bito\",\n          \"Tarjeta de cr\\u00e9dito\"\n        ],\n        \"semantic_type\": \"\",\n        \"description\": \"\"\n      }\n    },\n    {\n      \"column\": \"Cantidad de cuotas\",\n      \"properties\": {\n        \"dtype\": \"number\",\n        \"std\": 2,\n        \"min\": 1,\n        \"max\": 24,\n        \"num_unique_values\": 15,\n        \"samples\": [\n          7,\n          14,\n          8\n        ],\n        \"semantic_type\": \"\",\n        \"description\": \"\"\n      }\n    },\n    {\n      \"column\": \"lat\",\n      \"properties\": {\n        \"dtype\": \"number\",\n        \"std\": 2.2874452492678627,\n        \"min\": -4.21528,\n        \"max\": 11.54444,\n        \"num_unique_values\": 19,\n        \"samples\": [\n          4.60971,\n          4.81333,\n          2.9273\n        ],\n        \"semantic_type\": \"\",\n        \"description\": \"\"\n      }\n    },\n    {\n      \"column\": \"lon\",\n      \"properties\": {\n        \"dtype\": \"number\",\n        \"std\": 1.2178272727088486,\n        \"min\": -77.28111,\n        \"max\": -67.9239,\n        \"num_unique_values\": 19,\n        \"samples\": [\n          -74.08175,\n          -75.69611,\n          -75.28189\n        ],\n        \"semantic_type\": \"\",\n        \"description\": \"\"\n      }\n    }\n  ]\n}"
            }
          },
          "metadata": {},
          "execution_count": 2
        }
      ],
      "source": [
        "import pandas as pd\n",
        "\n",
        "url = \"https://raw.githubusercontent.com/alura-es-cursos/challenge1-data-science-latam/refs/heads/main/base-de-datos-challenge1-latam/tienda_1%20.csv\"\n",
        "url2 = \"https://raw.githubusercontent.com/alura-es-cursos/challenge1-data-science-latam/refs/heads/main/base-de-datos-challenge1-latam/tienda_2.csv\"\n",
        "url3 = \"https://raw.githubusercontent.com/alura-es-cursos/challenge1-data-science-latam/refs/heads/main/base-de-datos-challenge1-latam/tienda_3.csv\"\n",
        "url4 = \"https://raw.githubusercontent.com/alura-es-cursos/challenge1-data-science-latam/refs/heads/main/base-de-datos-challenge1-latam/tienda_4.csv\"\n",
        "\n",
        "tienda = pd.read_csv(url)\n",
        "tienda2 = pd.read_csv(url2)\n",
        "tienda3 = pd.read_csv(url3)\n",
        "tienda4 = pd.read_csv(url4)\n",
        "\n",
        "tienda.head()"
      ]
    },
    {
      "cell_type": "markdown",
      "source": [
        "#1. Análisis de facturación\n",
        "\n"
      ],
      "metadata": {
        "id": "X62IW3KFUIYm"
      }
    },
    {
      "cell_type": "code",
      "source": [
        "# Calcular ingreso total por tienda\n",
        "ingreso_tienda1 = tienda['Precio'].sum()  # Ingreso total de la primera tienda\n",
        "ingreso_tienda2 = tienda2['Precio'].sum() # Ingreso total de la segunda tienda\n",
        "ingreso_tienda3 = tienda3['Precio'].sum() # Ingreso total de la tercera tienda\n",
        "ingreso_tienda4 = tienda4['Precio'].sum() # Ingreso total de la cuarta tienda\n",
        "\n",
        "# Mostrar resultados\n",
        "print(f\"Ingreso total de la Tienda 1: {ingreso_tienda1}\")\n",
        "print(f\"Ingreso total de la Tienda 2: {ingreso_tienda2}\")\n",
        "print(f\"Ingreso total de la Tienda 3: {ingreso_tienda3}\")\n",
        "print(f\"Ingreso total de la Tienda 4: {ingreso_tienda4}\")\n"
      ],
      "metadata": {
        "id": "xykobSftV64I",
        "colab": {
          "base_uri": "https://localhost:8080/"
        },
        "outputId": "de8a3c62-f595-43e3-dab6-6876ba4c2918"
      },
      "execution_count": 3,
      "outputs": [
        {
          "output_type": "stream",
          "name": "stdout",
          "text": [
            "Ingreso total de la Tienda 1: 1150880400.0\n",
            "Ingreso total de la Tienda 2: 1116343500.0\n",
            "Ingreso total de la Tienda 3: 1098019600.0\n",
            "Ingreso total de la Tienda 4: 1038375700.0\n"
          ]
        }
      ]
    },
    {
      "cell_type": "code",
      "source": [],
      "metadata": {
        "id": "KDyr8E71V3m-"
      },
      "execution_count": null,
      "outputs": []
    },
    {
      "cell_type": "markdown",
      "source": [
        "# 2. Ventas por categoría"
      ],
      "metadata": {
        "id": "2V_vcAPzWZmR"
      }
    },
    {
      "cell_type": "code",
      "source": [
        "# Lista de tuplas consolidando las categorías y productos de todas las tiendas\n",
        "ventas_tiendas = [\n",
        "    *tienda[['Categoría del Producto', 'Producto']].itertuples(index=False, name=None),\n",
        "    *tienda2[['Categoría del Producto', 'Producto']].itertuples(index=False, name=None),\n",
        "    *tienda3[['Categoría del Producto', 'Producto']].itertuples(index=False, name=None),\n",
        "    *tienda4[['Categoría del Producto', 'Producto']].itertuples(index=False, name=None)\n",
        "]\n",
        "\n",
        "# Crear un diccionario para contar productos por categoría\n",
        "conteo_categorias = {}\n",
        "\n",
        "for categoria, producto in ventas_tiendas:\n",
        "    if categoria in conteo_categorias:\n",
        "        conteo_categorias[categoria] += 1\n",
        "    else:\n",
        "        conteo_categorias[categoria] = 1\n",
        "\n",
        "# Mostrar el conteo por categoría\n",
        "for categoria, cantidad in conteo_categorias.items():\n",
        "    print(f\"Categoría del Producto: {categoria}, Cantidad de productos vendidos: {cantidad}\")\n"
      ],
      "metadata": {
        "id": "A34YupIuYhfF",
        "colab": {
          "base_uri": "https://localhost:8080/"
        },
        "outputId": "e4a1b3af-842e-49de-9f73-f39b7f1d2095"
      },
      "execution_count": 4,
      "outputs": [
        {
          "output_type": "stream",
          "name": "stdout",
          "text": [
            "Categoría del Producto: Electrónicos, Cantidad de productos vendidos: 1772\n",
            "Categoría del Producto: Muebles, Cantidad de productos vendidos: 1886\n",
            "Categoría del Producto: Juguetes, Cantidad de productos vendidos: 1290\n",
            "Categoría del Producto: Electrodomésticos, Cantidad de productos vendidos: 1149\n",
            "Categoría del Producto: Artículos para el hogar, Cantidad de productos vendidos: 730\n",
            "Categoría del Producto: Deportes y diversión, Cantidad de productos vendidos: 1113\n",
            "Categoría del Producto: Libros, Cantidad de productos vendidos: 742\n",
            "Categoría del Producto: Instrumentos musicales, Cantidad de productos vendidos: 753\n"
          ]
        }
      ]
    },
    {
      "cell_type": "code",
      "source": [
        "\n",
        "# Tienda 1 - Lista de tuplas\n",
        "ventas_tienda1 = tienda[['Categoría del Producto', 'Producto']].itertuples(index=False, name=None)\n",
        "conteo_tienda1 = {}\n",
        "\n",
        "for categoria, producto in ventas_tienda1:\n",
        "    if categoria in conteo_tienda1:\n",
        "        conteo_tienda1[categoria] += 1\n",
        "    else:\n",
        "        conteo_tienda1[categoria] = 1\n",
        "\n",
        "# Ordenar por cantidad de mayor a menor\n",
        "conteo_tienda1_ordenado = sorted(conteo_tienda1.items(), key=lambda x: x[1], reverse=True)\n",
        "\n",
        "# Tienda 2 - Lista de tuplas\n",
        "ventas_tienda2 = tienda2[['Categoría del Producto', 'Producto']].itertuples(index=False, name=None)\n",
        "conteo_tienda2 = {}\n",
        "\n",
        "for categoria, producto in ventas_tienda2:\n",
        "    if categoria in conteo_tienda2:\n",
        "        conteo_tienda2[categoria] += 1\n",
        "    else:\n",
        "        conteo_tienda2[categoria] = 1\n",
        "\n",
        "# Ordenar por cantidad de mayor a menor\n",
        "conteo_tienda2_ordenado = sorted(conteo_tienda2.items(), key=lambda x: x[1], reverse=True)\n",
        "\n",
        "# Tienda 3 - Lista de tuplas\n",
        "ventas_tienda3 = tienda3[['Categoría del Producto', 'Producto']].itertuples(index=False, name=None)\n",
        "conteo_tienda3 = {}\n",
        "\n",
        "for categoria, producto in ventas_tienda3:\n",
        "    if categoria in conteo_tienda3:\n",
        "        conteo_tienda3[categoria] += 1\n",
        "    else:\n",
        "        conteo_tienda3[categoria] = 1\n",
        "\n",
        "# Ordenar por cantidad de mayor a menor\n",
        "conteo_tienda3_ordenado = sorted(conteo_tienda3.items(), key=lambda x: x[1], reverse=True)\n",
        "\n",
        "# Tienda 4 - Lista de tuplas\n",
        "ventas_tienda4 = tienda4[['Categoría del Producto', 'Producto']].itertuples(index=False, name=None)\n",
        "conteo_tienda4 = {}\n",
        "\n",
        "for categoria, producto in ventas_tienda4:\n",
        "    if categoria in conteo_tienda4:\n",
        "        conteo_tienda4[categoria] += 1\n",
        "    else:\n",
        "        conteo_tienda4[categoria] = 1\n",
        "\n",
        "# Ordenar por cantidad de mayor a menor\n",
        "conteo_tienda4_ordenado = sorted(conteo_tienda4.items(), key=lambda x: x[1], reverse=True)\n",
        "\n",
        "# Mostrar los resultados por tienda\n",
        "print(\"Conteo por categoría - Tienda 1 :\")\n",
        "for categoria, cantidad in conteo_tienda1_ordenado:\n",
        "    print(f\"Categoría: {categoria}, Cantidad: {cantidad}\")\n",
        "\n",
        "print(\"\\nConteo por categoría - Tienda 2 :\")\n",
        "for categoria, cantidad in conteo_tienda2_ordenado:\n",
        "    print(f\"Categoría: {categoria}, Cantidad: {cantidad}\")\n",
        "\n",
        "print(\"\\nConteo por categoría - Tienda 3 :\")\n",
        "for categoria, cantidad in conteo_tienda3_ordenado:\n",
        "    print(f\"Categoría: {categoria}, Cantidad: {cantidad}\")\n",
        "\n",
        "print(\"\\nConteo por categoría - Tienda 4 :\")\n",
        "for categoria, cantidad in conteo_tienda4_ordenado:\n",
        "    print(f\"Categoría: {categoria}, Cantidad: {cantidad}\")\n"
      ],
      "metadata": {
        "id": "yZR6cOjXYSk1",
        "colab": {
          "base_uri": "https://localhost:8080/"
        },
        "outputId": "cca26d2b-3c37-4d13-d1bb-b2fa51f0278e"
      },
      "execution_count": 5,
      "outputs": [
        {
          "output_type": "stream",
          "name": "stdout",
          "text": [
            "Conteo por categoría - Tienda 1 :\n",
            "Categoría: Muebles, Cantidad: 465\n",
            "Categoría: Electrónicos, Cantidad: 448\n",
            "Categoría: Juguetes, Cantidad: 324\n",
            "Categoría: Electrodomésticos, Cantidad: 312\n",
            "Categoría: Deportes y diversión, Cantidad: 284\n",
            "Categoría: Instrumentos musicales, Cantidad: 182\n",
            "Categoría: Libros, Cantidad: 173\n",
            "Categoría: Artículos para el hogar, Cantidad: 171\n",
            "\n",
            "Conteo por categoría - Tienda 2 :\n",
            "Categoría: Muebles, Cantidad: 442\n",
            "Categoría: Electrónicos, Cantidad: 422\n",
            "Categoría: Juguetes, Cantidad: 313\n",
            "Categoría: Electrodomésticos, Cantidad: 305\n",
            "Categoría: Deportes y diversión, Cantidad: 275\n",
            "Categoría: Instrumentos musicales, Cantidad: 224\n",
            "Categoría: Libros, Cantidad: 197\n",
            "Categoría: Artículos para el hogar, Cantidad: 181\n",
            "\n",
            "Conteo por categoría - Tienda 3 :\n",
            "Categoría: Muebles, Cantidad: 499\n",
            "Categoría: Electrónicos, Cantidad: 451\n",
            "Categoría: Juguetes, Cantidad: 315\n",
            "Categoría: Electrodomésticos, Cantidad: 278\n",
            "Categoría: Deportes y diversión, Cantidad: 277\n",
            "Categoría: Libros, Cantidad: 185\n",
            "Categoría: Instrumentos musicales, Cantidad: 177\n",
            "Categoría: Artículos para el hogar, Cantidad: 177\n",
            "\n",
            "Conteo por categoría - Tienda 4 :\n",
            "Categoría: Muebles, Cantidad: 480\n",
            "Categoría: Electrónicos, Cantidad: 451\n",
            "Categoría: Juguetes, Cantidad: 338\n",
            "Categoría: Deportes y diversión, Cantidad: 277\n",
            "Categoría: Electrodomésticos, Cantidad: 254\n",
            "Categoría: Artículos para el hogar, Cantidad: 201\n",
            "Categoría: Libros, Cantidad: 187\n",
            "Categoría: Instrumentos musicales, Cantidad: 170\n"
          ]
        }
      ]
    },
    {
      "cell_type": "markdown",
      "source": [
        "# 3. Calificación promedio de la tienda\n"
      ],
      "metadata": {
        "id": "Rq6tU_xSY3jk"
      }
    },
    {
      "cell_type": "code",
      "source": [
        "# Calcular el promedio de las calificaciones para cada tienda\n",
        "\n",
        "# Tienda 1\n",
        "promedio_tienda1 = tienda['Calificación'].mean()\n",
        "\n",
        "# Tienda 2\n",
        "promedio_tienda2 = tienda2['Calificación'].mean()\n",
        "\n",
        "# Tienda 3\n",
        "promedio_tienda3 = tienda3['Calificación'].mean()\n",
        "\n",
        "# Tienda 4\n",
        "promedio_tienda4 = tienda4['Calificación'].mean()\n",
        "\n",
        "# Mostrar resultados\n",
        "print(f\"Promedio de calificación - Tienda 1: {promedio_tienda1:.2f}\")\n",
        "print(f\"Promedio de calificación - Tienda 2: {promedio_tienda2:.2f}\")\n",
        "print(f\"Promedio de calificación - Tienda 3: {promedio_tienda3:.2f}\")\n",
        "print(f\"Promedio de calificación - Tienda 4: {promedio_tienda4:.2f}\")\n"
      ],
      "metadata": {
        "id": "bh3jjjJwY5MU",
        "colab": {
          "base_uri": "https://localhost:8080/"
        },
        "outputId": "746d84f6-2d1e-493a-ac95-79cc7060c323"
      },
      "execution_count": 6,
      "outputs": [
        {
          "output_type": "stream",
          "name": "stdout",
          "text": [
            "Promedio de calificación - Tienda 1: 3.98\n",
            "Promedio de calificación - Tienda 2: 4.04\n",
            "Promedio de calificación - Tienda 3: 4.05\n",
            "Promedio de calificación - Tienda 4: 4.00\n"
          ]
        }
      ]
    },
    {
      "cell_type": "code",
      "source": [],
      "metadata": {
        "id": "I0KkjPoTY88F"
      },
      "execution_count": null,
      "outputs": []
    },
    {
      "cell_type": "markdown",
      "source": [
        "# 4. Productos más y menos vendidos"
      ],
      "metadata": {
        "id": "DmNp1KPBZCm-"
      }
    },
    {
      "cell_type": "code",
      "source": [
        "# Tienda 1\n",
        "productos_tienda1 = tienda.groupby('Producto').agg({'Precio': 'sum', 'Producto': 'count'})\n",
        "producto_mas_vendido_tienda1 = productos_tienda1['Producto'].idxmax()\n",
        "producto_menos_vendido_tienda1 = productos_tienda1['Producto'].idxmin()\n",
        "cantidad_mas_vendido_tienda1 = productos_tienda1.loc[producto_mas_vendido_tienda1, 'Producto']\n",
        "cantidad_menos_vendido_tienda1 = productos_tienda1.loc[producto_menos_vendido_tienda1, 'Producto']\n",
        "precio_mas_vendido_tienda1 = productos_tienda1.loc[producto_mas_vendido_tienda1, 'Precio']\n",
        "precio_menos_vendido_tienda1 = productos_tienda1.loc[producto_menos_vendido_tienda1, 'Precio']\n",
        "\n",
        "# Tienda 2\n",
        "productos_tienda2 = tienda2.groupby('Producto').agg({'Precio': 'sum', 'Producto': 'count'})\n",
        "producto_mas_vendido_tienda2 = productos_tienda2['Producto'].idxmax()\n",
        "producto_menos_vendido_tienda2 = productos_tienda2['Producto'].idxmin()\n",
        "cantidad_mas_vendido_tienda2 = productos_tienda2.loc[producto_mas_vendido_tienda2, 'Producto']\n",
        "cantidad_menos_vendido_tienda2 = productos_tienda2.loc[producto_menos_vendido_tienda2, 'Producto']\n",
        "precio_mas_vendido_tienda2 = productos_tienda2.loc[producto_mas_vendido_tienda2, 'Precio']\n",
        "precio_menos_vendido_tienda2 = productos_tienda2.loc[producto_menos_vendido_tienda2, 'Precio']\n",
        "\n",
        "# Tienda 3\n",
        "productos_tienda3 = tienda3.groupby('Producto').agg({'Precio': 'sum', 'Producto': 'count'})\n",
        "producto_mas_vendido_tienda3 = productos_tienda3['Producto'].idxmax()\n",
        "producto_menos_vendido_tienda3 = productos_tienda3['Producto'].idxmin()\n",
        "cantidad_mas_vendido_tienda3 = productos_tienda3.loc[producto_mas_vendido_tienda3, 'Producto']\n",
        "cantidad_menos_vendido_tienda3 = productos_tienda3.loc[producto_menos_vendido_tienda3, 'Producto']\n",
        "precio_mas_vendido_tienda3 = productos_tienda3.loc[producto_mas_vendido_tienda3, 'Precio']\n",
        "precio_menos_vendido_tienda3 = productos_tienda3.loc[producto_menos_vendido_tienda3, 'Precio']\n",
        "\n",
        "# Tienda 4\n",
        "productos_tienda4 = tienda4.groupby('Producto').agg({'Precio': 'sum', 'Producto': 'count'})\n",
        "producto_mas_vendido_tienda4 = productos_tienda4['Producto'].idxmax()\n",
        "producto_menos_vendido_tienda4 = productos_tienda4['Producto'].idxmin()\n",
        "cantidad_mas_vendido_tienda4 = productos_tienda4.loc[producto_mas_vendido_tienda4, 'Producto']\n",
        "cantidad_menos_vendido_tienda4 = productos_tienda4.loc[producto_menos_vendido_tienda4, 'Producto']\n",
        "precio_mas_vendido_tienda4 = productos_tienda4.loc[producto_mas_vendido_tienda4, 'Precio']\n",
        "precio_menos_vendido_tienda4 = productos_tienda4.loc[producto_menos_vendido_tienda4, 'Precio']\n",
        "\n",
        "# Mostrar resultados\n",
        "print(f\"Tienda 1 - Producto más vendido: {producto_mas_vendido_tienda1}, Cantidad: {cantidad_mas_vendido_tienda1}, Precio total: {precio_mas_vendido_tienda1:.2f}\")\n",
        "print(f\"Tienda 1 - Producto menos vendido: {producto_menos_vendido_tienda1}, Cantidad: {cantidad_menos_vendido_tienda1}, Precio total: {precio_menos_vendido_tienda1:.2f}\")\n",
        "\n",
        "print(f\"Tienda 2 - Producto más vendido: {producto_mas_vendido_tienda2}, Cantidad: {cantidad_mas_vendido_tienda2}, Precio total: {precio_mas_vendido_tienda2:.2f}\")\n",
        "print(f\"Tienda 2 - Producto menos vendido: {producto_menos_vendido_tienda2}, Cantidad: {cantidad_menos_vendido_tienda2}, Precio total: {precio_menos_vendido_tienda2:.2f}\")\n",
        "\n",
        "print(f\"Tienda 3 - Producto más vendido: {producto_mas_vendido_tienda3}, Cantidad: {cantidad_mas_vendido_tienda3}, Precio total: {precio_mas_vendido_tienda3:.2f}\")\n",
        "print(f\"Tienda 3 - Producto menos vendido: {producto_menos_vendido_tienda3}, Cantidad: {cantidad_menos_vendido_tienda3}, Precio total: {precio_menos_vendido_tienda3:.2f}\")\n",
        "\n",
        "print(f\"Tienda 4 - Producto más vendido: {producto_mas_vendido_tienda4}, Cantidad: {cantidad_mas_vendido_tienda4}, Precio total: {precio_mas_vendido_tienda4:.2f}\")\n",
        "print(f\"Tienda 4 - Producto menos vendido: {producto_menos_vendido_tienda4}, Cantidad: {cantidad_menos_vendido_tienda4}, Precio total: {precio_menos_vendido_tienda4:.2f}\")\n"
      ],
      "metadata": {
        "id": "qoyjqijQZHfF",
        "colab": {
          "base_uri": "https://localhost:8080/"
        },
        "outputId": "1a627d75-3a86-4386-fc4b-bb430077ee0b"
      },
      "execution_count": 7,
      "outputs": [
        {
          "output_type": "stream",
          "name": "stdout",
          "text": [
            "Tienda 1 - Producto más vendido: Armario, Cantidad: 60, Precio total: 29462300.00\n",
            "Tienda 1 - Producto menos vendido: Auriculares con micrófono, Cantidad: 33, Precio total: 4730800.00\n",
            "Tienda 2 - Producto más vendido: Iniciando en programación, Cantidad: 65, Precio total: 3127800.00\n",
            "Tienda 2 - Producto menos vendido: Juego de mesa, Cantidad: 32, Precio total: 5811900.00\n",
            "Tienda 3 - Producto más vendido: Kit de bancas, Cantidad: 57, Precio total: 16699800.00\n",
            "Tienda 3 - Producto menos vendido: Bloques de construcción, Cantidad: 35, Precio total: 1237200.00\n",
            "Tienda 4 - Producto más vendido: Cama box, Cantidad: 62, Precio total: 32946300.00\n",
            "Tienda 4 - Producto menos vendido: Guitarra eléctrica, Cantidad: 33, Precio total: 25823100.00\n"
          ]
        }
      ]
    },
    {
      "cell_type": "code",
      "source": [],
      "metadata": {
        "id": "0Sw3sd4IZIGW"
      },
      "execution_count": null,
      "outputs": []
    },
    {
      "cell_type": "markdown",
      "source": [
        "# 5. Envío promedio por tienda"
      ],
      "metadata": {
        "id": "Fl0cGi3bZKqU"
      }
    },
    {
      "cell_type": "code",
      "source": [
        "# Calcular el promedio del costo de envío para cada tienda\n",
        "\n",
        "# Tienda 1\n",
        "promedio_envio_tienda1 = tienda['Costo de envío'].mean()\n",
        "\n",
        "# Tienda 2\n",
        "promedio_envio_tienda2 = tienda2['Costo de envío'].mean()\n",
        "\n",
        "# Tienda 3\n",
        "promedio_envio_tienda3 = tienda3['Costo de envío'].mean()\n",
        "\n",
        "# Tienda 4\n",
        "promedio_envio_tienda4 = tienda4['Costo de envío'].mean()\n",
        "\n",
        "# Mostrar resultados\n",
        "print(f\"Promedio de costo de envío - Tienda 1: {promedio_envio_tienda1:.2f}\")\n",
        "print(f\"Promedio de costo de envío - Tienda 2: {promedio_envio_tienda2:.2f}\")\n",
        "print(f\"Promedio de costo de envío - Tienda 3: {promedio_envio_tienda3:.2f}\")\n",
        "print(f\"Promedio de costo de envío - Tienda 4: {promedio_envio_tienda4:.2f}\")\n"
      ],
      "metadata": {
        "id": "S2JeaCykZNy9",
        "colab": {
          "base_uri": "https://localhost:8080/"
        },
        "outputId": "2a8160bc-1632-4059-b6b0-261ba972874b"
      },
      "execution_count": 8,
      "outputs": [
        {
          "output_type": "stream",
          "name": "stdout",
          "text": [
            "Promedio de costo de envío - Tienda 1: 26018.61\n",
            "Promedio de costo de envío - Tienda 2: 25216.24\n",
            "Promedio de costo de envío - Tienda 3: 24805.68\n",
            "Promedio de costo de envío - Tienda 4: 23459.46\n"
          ]
        }
      ]
    },
    {
      "cell_type": "markdown",
      "source": [
        "# Promedio de costo de envio por producto mas y el menos vendido"
      ],
      "metadata": {
        "id": "0V4-MuoqjuUO"
      }
    },
    {
      "cell_type": "code",
      "source": [
        "# Tienda 1 - Calcular el promedio de Costo de envío\n",
        "promedio_envio_mas_vendido_tienda1 = tienda.loc[tienda['Producto'] == producto_mas_vendido_tienda1, 'Costo de envío'].mean() # Changed to access 'Costo de envío' from original 'tienda' DataFrame\n",
        "promedio_envio_menos_vendido_tienda1 = tienda.loc[tienda['Producto'] == producto_menos_vendido_tienda1, 'Costo de envío'].mean() # Changed to access 'Costo de envío' from original 'tienda' DataFrame\n",
        "\n",
        "# Tienda 2 - Calcular el promedio de Costo de envío\n",
        "promedio_envio_mas_vendido_tienda2 = tienda2.loc[tienda2['Producto'] == producto_mas_vendido_tienda2, 'Costo de envío'].mean() # Changed to access 'Costo de envío' from original 'tienda2' DataFrame\n",
        "promedio_envio_menos_vendido_tienda2 = tienda2.loc[tienda2['Producto'] == producto_menos_vendido_tienda2, 'Costo de envío'].mean() # Changed to access 'Costo de envío' from original 'tienda2' DataFrame\n",
        "\n",
        "# Tienda 3 - Calcular el promedio de Costo de envío\n",
        "promedio_envio_mas_vendido_tienda3 = tienda3.loc[tienda3['Producto'] == producto_mas_vendido_tienda3, 'Costo de envío'].mean() # Changed to access 'Costo de envío' from original 'tienda3' DataFrame\n",
        "promedio_envio_menos_vendido_tienda3 = tienda3.loc[tienda3['Producto'] == producto_menos_vendido_tienda3, 'Costo de envío'].mean() # Changed to access 'Costo de envío' from original 'tienda3' DataFrame\n",
        "\n",
        "# Tienda 4 - Calcular el promedio de Costo de envío\n",
        "promedio_envio_mas_vendido_tienda4 = tienda4.loc[tienda4['Producto'] == producto_mas_vendido_tienda4, 'Costo de envío'].mean() # Changed to access 'Costo de envío' from original 'tienda4' DataFrame\n",
        "promedio_envio_menos_vendido_tienda4 = tienda4.loc[tienda4['Producto'] == producto_menos_vendido_tienda4, 'Costo de envío'].mean() # Changed to access 'Costo de envío' from original 'tienda4' DataFrame\n",
        "\n",
        "# Imprimir los resultados\n",
        "print(f\"Tienda 1 - Envío promedio del más vendido: {promedio_envio_mas_vendido_tienda1:.2f}, menos vendido: {promedio_envio_menos_vendido_tienda1:.2f}\")\n",
        "print(f\"Tienda 2 - Envío promedio del más vendido: {promedio_envio_mas_vendido_tienda2:.2f}, menos vendido: {promedio_envio_menos_vendido_tienda2:.2f}\")\n",
        "print(f\"Tienda 3 - Envío promedio del más vendido: {promedio_envio_mas_vendido_tienda3:.2f}, menos vendido: {promedio_envio_menos_vendido_tienda3:.2f}\")\n",
        "print(f\"Tienda 4 - Envío promedio del más vendido: {promedio_envio_mas_vendido_tienda4:.2f}, menos vendido: {promedio_envio_menos_vendido_tienda4:.2f}\")"
      ],
      "metadata": {
        "colab": {
          "base_uri": "https://localhost:8080/"
        },
        "id": "rNTJj_sVpIla",
        "outputId": "9855b5ef-c30a-45ce-ffbf-d45410a6352d"
      },
      "execution_count": 16,
      "outputs": [
        {
          "output_type": "stream",
          "name": "stdout",
          "text": [
            "Tienda 1 - Envío promedio del más vendido: 26068.33, menos vendido: 8221.21\n",
            "Tienda 2 - Envío promedio del más vendido: 2500.00, menos vendido: 9571.88\n",
            "Tienda 3 - Envío promedio del más vendido: 15784.21, menos vendido: 1460.00\n",
            "Tienda 4 - Envío promedio del más vendido: 28253.23, menos vendido: 40954.55\n"
          ]
        }
      ]
    },
    {
      "cell_type": "code",
      "source": [],
      "metadata": {
        "id": "T1ZBVm07DBhY"
      },
      "execution_count": null,
      "outputs": []
    },
    {
      "cell_type": "markdown",
      "source": [
        "# Visualización\n"
      ],
      "metadata": {
        "id": "BYIiPi8vraM6"
      }
    },
    {
      "cell_type": "code",
      "source": [
        "import matplotlib.pyplot as plt\n",
        "\n",
        "# Datos: Ingresos totales de cada tienda\n",
        "ingresos_tiendas = [ingreso_tienda1, ingreso_tienda2, ingreso_tienda3, ingreso_tienda4]\n",
        "\n",
        "# Nombres de las tiendas\n",
        "nombres_tiendas = ['Tienda 1', 'Tienda 2', 'Tienda 3', 'Tienda 4']\n",
        "\n",
        "# Colores para cada barra\n",
        "colores = ['orange', 'darkblue', 'green', 'purple']\n",
        "\n",
        "# Crear gráfica de barras horizontales\n",
        "plt.barh(nombres_tiendas, ingresos_tiendas, color=colores)\n",
        "\n",
        "# Personalizar la gráfica\n",
        "plt.xlabel('Ingreso Total (en euros)')\n",
        "plt.ylabel('Tiendas')\n",
        "plt.title('Comparación de Ingresos Totales por Tienda')\n",
        "plt.grid(axis='x', linestyle='--', alpha=0.7)\n",
        "\n",
        "# Mostrar gráfica\n",
        "plt.show()\n"
      ],
      "metadata": {
        "colab": {
          "base_uri": "https://localhost:8080/",
          "height": 472
        },
        "id": "d-WCCuxiDC8A",
        "outputId": "a5bd208f-f228-40e5-f798-ab0f5bd74781"
      },
      "execution_count": 17,
      "outputs": [
        {
          "output_type": "display_data",
          "data": {
            "text/plain": [
              "<Figure size 640x480 with 1 Axes>"
            ],
            "image/png": "[encoded data removed]"
          },
          "metadata": {}
        }
      ]
    }
  ]
}